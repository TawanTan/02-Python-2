{
 "cells": [
  {
   "cell_type": "code",
   "execution_count": 11,
   "metadata": {},
   "outputs": [
    {
     "name": "stdout",
     "output_type": "stream",
     "text": [
      "ครั้งที่ 1 : 5000\n",
      "ครั้งที่ 2 : 5000\n",
      "ครั้งที่ 3 : 5000\n",
      "ครั้งที่ 4 : 5000\n",
      "ยอดรวม4มื้อ :  18750.0\n",
      "ยอดของมื้อที่4 :  3750.0\n"
     ]
    }
   ],
   "source": [
    "a = float(input('ครั้งที่ 1 : '))\n",
    "b = float(input('ครั้งที่ 2 : '))\n",
    "c = float(input('ครั้งที่ 3 : '))\n",
    "d = float(input('ครั้งที่ 4 : '))\n",
    "while a < 1000 or a > 5000 or \\\n",
    "      b < 1000 or b > 5000 or \\\n",
    "      c < 1000 or c > 5000 or \\\n",
    "      d < 1000 or d > 5000 :\n",
    "    a = float(input('ครั้งที่ 1 : '))\n",
    "    b = float(input('ครั้งที่ 2 : '))\n",
    "    c = float(input('ครั้งที่ 3 : '))\n",
    "    d = float(input('ครั้งที่ 4 : '))\n",
    "Sum = a+b+c+d\n",
    "\n",
    "#ผมสับสนว่าต้องแสดงค่าอาหารทั้งหมดหรือเฉพาะมื้อที่4ที่ลดราคาลง ผมเลยแสดงทั้งสองค่า\n",
    "if Sum > 6000 and Sum <= 12000:\n",
    "    print('ยอดรวม4มื้อ : ',Sum*0.85)\n",
    "    print('ยอดของมื้อที่4 : ',d*0.85)\n",
    "elif Sum > 12000 :\n",
    "    print('ยอดรวม4มื้อ : ',a+b+c+d*0.75)\n",
    "    print('ยอดของมื้อที่4 : ',d*0.75)\n",
    "else : \n",
    "    print('ยอดรวม4มื้อ : ',Sum)\n",
    "    print('ยอดของมื้อที่4 : ',d)"
   ]
  }
 ],
 "metadata": {
  "kernelspec": {
   "display_name": "Python 3",
   "language": "python",
   "name": "python3"
  },
  "language_info": {
   "codemirror_mode": {
    "name": "ipython",
    "version": 3
   },
   "file_extension": ".py",
   "mimetype": "text/x-python",
   "name": "python",
   "nbconvert_exporter": "python",
   "pygments_lexer": "ipython3",
   "version": "3.7.7"
  }
 },
 "nbformat": 4,
 "nbformat_minor": 4
}
