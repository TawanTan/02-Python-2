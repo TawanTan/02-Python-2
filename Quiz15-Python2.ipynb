{
 "cells": [
  {
   "cell_type": "code",
   "execution_count": 4,
   "metadata": {},
   "outputs": [
    {
     "name": "stdout",
     "output_type": "stream",
     "text": [
      "Head : 5\n",
      "Leg : 60\n",
      "วัว :  25.0\n",
      "นก :  -20.0\n",
      "สัตว์พิการ55555\n"
     ]
    }
   ],
   "source": [
    "h = int(input('Head : '))\n",
    "l = int(input('Leg : ')) \n",
    "c = (l-2*h)/2\n",
    "b = h-c\n",
    "print('วัว : ', c)\n",
    "print('นก : ', b)\n",
    "if c >= 0 and b >= 0 and c%1 == 0 and b%1 == 0:\n",
    "    print('ภาษี : ', c*220+b*150)\n",
    "else: print('สัตว์พิการ55555')"
   ]
  }
 ],
 "metadata": {
  "kernelspec": {
   "display_name": "Python 3",
   "language": "python",
   "name": "python3"
  },
  "language_info": {
   "codemirror_mode": {
    "name": "ipython",
    "version": 3
   },
   "file_extension": ".py",
   "mimetype": "text/x-python",
   "name": "python",
   "nbconvert_exporter": "python",
   "pygments_lexer": "ipython3",
   "version": "3.7.7"
  }
 },
 "nbformat": 4,
 "nbformat_minor": 4
}
