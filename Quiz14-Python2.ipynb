{
 "cells": [
  {
   "cell_type": "code",
   "execution_count": 4,
   "metadata": {},
   "outputs": [
    {
     "name": "stdout",
     "output_type": "stream",
     "text": [
      "จำนวนชั่วโมง : 1\n",
      "จำนวนนาที : 16\n",
      "ค่าจอดรถ :  600\n"
     ]
    }
   ],
   "source": [
    "a = int(input('จำนวนชั่วโมง : '))\n",
    "b = int(input('จำนวนนาที : '))\n",
    "\n",
    "while a < 0 or a > 60 or \\\n",
    "      b < 0 or b > 60 :\n",
    "    print('กรุณาระบุใหม่')\n",
    "    a = int(input('จำนวนชั่วโมง : '))\n",
    "    b = int(input('จำนวนนาที : '))\n",
    "if a == 0 :\n",
    "    print('ค่าจอดรถ : ', 0)\n",
    "elif a > 0 and b <= 15 :\n",
    "    print('ค่าจอดรถ : ', a*300)\n",
    "elif a > 0 and b > 15 :\n",
    "    print('ค่าจอดรถ : ', (a+1)*300)"
   ]
  }
 ],
 "metadata": {
  "kernelspec": {
   "display_name": "Python 3",
   "language": "python",
   "name": "python3"
  },
  "language_info": {
   "codemirror_mode": {
    "name": "ipython",
    "version": 3
   },
   "file_extension": ".py",
   "mimetype": "text/x-python",
   "name": "python",
   "nbconvert_exporter": "python",
   "pygments_lexer": "ipython3",
   "version": "3.7.7"
  }
 },
 "nbformat": 4,
 "nbformat_minor": 4
}
