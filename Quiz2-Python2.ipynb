{
 "cells": [
  {
   "cell_type": "code",
   "execution_count": 3,
   "metadata": {},
   "outputs": [
    {
     "name": "stdout",
     "output_type": "stream",
     "text": [
      "input1 : 80.67\n",
      "input2 : 0\n",
      "please input again\n",
      "input2 : 0\n",
      "please input again\n",
      "input2 : 0\n",
      "please input again\n",
      "input2 : 15.29\n",
      "5.275997383911053\n"
     ]
    }
   ],
   "source": [
    "Put1 = float(input('input1 : '))\n",
    "Put2 = float(input('input2 : '))\n",
    "while Put2 == 0:\n",
    "    print('please input again')\n",
    "    Put2 = float(input('input2 : '))\n",
    "\n",
    "print(Put1/Put2)"
   ]
  }
 ],
 "metadata": {
  "kernelspec": {
   "display_name": "Python 3",
   "language": "python",
   "name": "python3"
  },
  "language_info": {
   "codemirror_mode": {
    "name": "ipython",
    "version": 3
   },
   "file_extension": ".py",
   "mimetype": "text/x-python",
   "name": "python",
   "nbconvert_exporter": "python",
   "pygments_lexer": "ipython3",
   "version": "3.7.7"
  }
 },
 "nbformat": 4,
 "nbformat_minor": 4
}
