{
 "cells": [
  {
   "cell_type": "code",
   "execution_count": 8,
   "metadata": {},
   "outputs": [
    {
     "name": "stdout",
     "output_type": "stream",
     "text": [
      "input here : 10\n",
      "input here : 20\n",
      "input here : 30\n",
      "input here : 40\n",
      "input here : 50\n",
      "input here : 0\n",
      "sum :  150.0\n",
      "number :  5\n",
      "average :  30.0\n"
     ]
    }
   ],
   "source": [
    "a = float(input('input here : '))\n",
    "b = 0\n",
    "sum = a\n",
    "while a != 0 :\n",
    "    a = float(input('input here : '))\n",
    "    sum += a\n",
    "    b += 1\n",
    "print('sum : ',sum)\n",
    "print('number : ',b)\n",
    "print('average : ',sum/b)"
   ]
  }
 ],
 "metadata": {
  "kernelspec": {
   "display_name": "Python 3",
   "language": "python",
   "name": "python3"
  },
  "language_info": {
   "codemirror_mode": {
    "name": "ipython",
    "version": 3
   },
   "file_extension": ".py",
   "mimetype": "text/x-python",
   "name": "python",
   "nbconvert_exporter": "python",
   "pygments_lexer": "ipython3",
   "version": "3.7.7"
  }
 },
 "nbformat": 4,
 "nbformat_minor": 4
}
