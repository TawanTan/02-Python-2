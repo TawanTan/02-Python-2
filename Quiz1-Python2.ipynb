{
 "cells": [
  {
   "cell_type": "code",
   "execution_count": 18,
   "metadata": {},
   "outputs": [
    {
     "name": "stdout",
     "output_type": "stream",
     "text": [
      "Put your number : 0\n",
      "Zero\n"
     ]
    }
   ],
   "source": [
    "Put = int(input('Put your number : '))\n",
    "if (Put%2 == 0 and Put != 0):\n",
    "    print('Even Number')\n",
    "elif (Put == 0):\n",
    "    print('Zero')\n",
    "else: print('Odd Number')"
   ]
  }
 ],
 "metadata": {
  "kernelspec": {
   "display_name": "Python 3",
   "language": "python",
   "name": "python3"
  },
  "language_info": {
   "codemirror_mode": {
    "name": "ipython",
    "version": 3
   },
   "file_extension": ".py",
   "mimetype": "text/x-python",
   "name": "python",
   "nbconvert_exporter": "python",
   "pygments_lexer": "ipython3",
   "version": "3.7.7"
  }
 },
 "nbformat": 4,
 "nbformat_minor": 4
}
