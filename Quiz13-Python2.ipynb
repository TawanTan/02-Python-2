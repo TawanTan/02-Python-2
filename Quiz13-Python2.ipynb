{
 "cells": [
  {
   "cell_type": "code",
   "execution_count": 2,
   "metadata": {},
   "outputs": [
    {
     "name": "stdout",
     "output_type": "stream",
     "text": [
      "จำนวนชั่วโมง : 4\n",
      "จำนวนนาที : 5\n",
      "ค่าจอดรถ :  610\n"
     ]
    }
   ],
   "source": [
    "a = int(input('จำนวนชั่วโมง : '))\n",
    "b = int(input('จำนวนนาที : '))\n",
    "\n",
    "while a < 0 or a > 60 or \\\n",
    "      b < 0 or b > 60 :\n",
    "    print('กรุณาระบุใหม่')\n",
    "    a = int(input('จำนวนชั่วโมง : '))\n",
    "    b = int(input('จำนวนนาที : '))\n",
    "print('ค่าจอดรถ : ', a*150+b*2)"
   ]
  }
 ],
 "metadata": {
  "kernelspec": {
   "display_name": "Python 3",
   "language": "python",
   "name": "python3"
  },
  "language_info": {
   "codemirror_mode": {
    "name": "ipython",
    "version": 3
   },
   "file_extension": ".py",
   "mimetype": "text/x-python",
   "name": "python",
   "nbconvert_exporter": "python",
   "pygments_lexer": "ipython3",
   "version": "3.7.7"
  }
 },
 "nbformat": 4,
 "nbformat_minor": 4
}
