{
 "cells": [
  {
   "cell_type": "code",
   "execution_count": 9,
   "metadata": {},
   "outputs": [
    {
     "name": "stdout",
     "output_type": "stream",
     "text": [
      "input : 81\n",
      "หาร 7 ไม่ลงตัวนะจ๊ะ\n"
     ]
    }
   ],
   "source": [
    "a = int(input('input : '))\n",
    "if a%7 == 0 :\n",
    "    print('หาร 7 ลงตัวนะจ๊ะ')\n",
    "else: print('หาร 7 ไม่ลงตัวนะจ๊ะ')"
   ]
  }
 ],
 "metadata": {
  "kernelspec": {
   "display_name": "Python 3",
   "language": "python",
   "name": "python3"
  },
  "language_info": {
   "codemirror_mode": {
    "name": "ipython",
    "version": 3
   },
   "file_extension": ".py",
   "mimetype": "text/x-python",
   "name": "python",
   "nbconvert_exporter": "python",
   "pygments_lexer": "ipython3",
   "version": "3.7.7"
  }
 },
 "nbformat": 4,
 "nbformat_minor": 4
}
