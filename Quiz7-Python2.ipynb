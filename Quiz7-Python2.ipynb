{
 "cells": [
  {
   "cell_type": "code",
   "execution_count": 19,
   "metadata": {},
   "outputs": [
    {
     "name": "stdout",
     "output_type": "stream",
     "text": [
      "ครั้งที่ 1 : 5000\n",
      "ครั้งที่ 2 : 5000\n",
      "ครั้งที่ 3 : 5000\n",
      "11250.0\n"
     ]
    }
   ],
   "source": [
    "a = float(input('ครั้งที่ 1 : '))\n",
    "b = float(input('ครั้งที่ 2 : '))\n",
    "c = float(input('ครั้งที่ 3 : '))\n",
    "while a < 1000 or a > 5000 or \\\n",
    "      b < 1000 or b > 5000 or \\\n",
    "      c < 1000 or c > 5000 :\n",
    "    a = float(input('ครั้งที่ 1 : '))\n",
    "    b = float(input('ครั้งที่ 2 : '))\n",
    "    c = float(input('ครั้งที่ 3 : '))\n",
    "Sum = a+b+c\n",
    "if Sum > 6000 and Sum <= 12000:\n",
    "    print(Sum*0.85)\n",
    "elif Sum > 12000 :\n",
    "    print(Sum*0.75)\n",
    "else : print(Sum)"
   ]
  }
 ],
 "metadata": {
  "kernelspec": {
   "display_name": "Python 3",
   "language": "python",
   "name": "python3"
  },
  "language_info": {
   "codemirror_mode": {
    "name": "ipython",
    "version": 3
   },
   "file_extension": ".py",
   "mimetype": "text/x-python",
   "name": "python",
   "nbconvert_exporter": "python",
   "pygments_lexer": "ipython3",
   "version": "3.7.7"
  }
 },
 "nbformat": 4,
 "nbformat_minor": 4
}
