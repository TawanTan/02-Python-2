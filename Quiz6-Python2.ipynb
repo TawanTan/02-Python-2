{
 "cells": [
  {
   "cell_type": "code",
   "execution_count": 8,
   "metadata": {},
   "outputs": [
    {
     "name": "stdout",
     "output_type": "stream",
     "text": [
      "input1 : 20\n",
      "input2 : 200\n",
      "input3 : 30\n",
      "ไม่ใช่สามเหลี่ยม\n"
     ]
    }
   ],
   "source": [
    "a = int(input('input1 : '))\n",
    "b = int(input('input2 : '))\n",
    "c = int(input('input3 : '))\n",
    "\n",
    "if (a+b+c == 180) and (a < 90 and b < 90 and c < 90):\n",
    "    print('สามเหลี่ยมมุมแหลม')\n",
    "elif (a+b+c == 180) and (a > 90 or b > 90 or c > 90):\n",
    "    print('สามเหลี่ยมมุมป้าน')\n",
    "elif (a+b+c == 180) and (a == 90 or b == 90 or c == 90):\n",
    "    print('สามเหลี่ยมมุมฉาก')\n",
    "else: print('ไม่ใช่สามเหลี่ยม')"
   ]
  }
 ],
 "metadata": {
  "kernelspec": {
   "display_name": "Python 3",
   "language": "python",
   "name": "python3"
  },
  "language_info": {
   "codemirror_mode": {
    "name": "ipython",
    "version": 3
   },
   "file_extension": ".py",
   "mimetype": "text/x-python",
   "name": "python",
   "nbconvert_exporter": "python",
   "pygments_lexer": "ipython3",
   "version": "3.7.7"
  }
 },
 "nbformat": 4,
 "nbformat_minor": 4
}
