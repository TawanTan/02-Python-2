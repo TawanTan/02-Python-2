{
 "cells": [
  {
   "cell_type": "code",
   "execution_count": 7,
   "metadata": {},
   "outputs": [
    {
     "name": "stdout",
     "output_type": "stream",
     "text": [
      "put someting here : Put Something Here\n",
      "p\n",
      "U\n",
      "T\n",
      " \n",
      "s\n",
      "O\n",
      "M\n",
      "E\n",
      "T\n",
      "H\n",
      "I\n",
      "N\n",
      "G\n",
      " \n",
      "h\n",
      "E\n",
      "R\n",
      "E\n"
     ]
    }
   ],
   "source": [
    "a = str(input('put someting here : '))\n",
    "while len(a) < 7:\n",
    "    a = str(input('put someting here : '))\n",
    "for i in a :\n",
    "    if i == i.upper():\n",
    "        print(i.lower())\n",
    "    elif i == i.lower():\n",
    "        print(i.upper())\n",
    "    else: print(i)\n",
    "        "
   ]
  }
 ],
 "metadata": {
  "kernelspec": {
   "display_name": "Python 3",
   "language": "python",
   "name": "python3"
  },
  "language_info": {
   "codemirror_mode": {
    "name": "ipython",
    "version": 3
   },
   "file_extension": ".py",
   "mimetype": "text/x-python",
   "name": "python",
   "nbconvert_exporter": "python",
   "pygments_lexer": "ipython3",
   "version": "3.7.7"
  }
 },
 "nbformat": 4,
 "nbformat_minor": 4
}
