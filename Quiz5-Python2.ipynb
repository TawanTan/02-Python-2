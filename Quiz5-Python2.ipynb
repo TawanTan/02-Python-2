{
 "cells": [
  {
   "cell_type": "code",
   "execution_count": 23,
   "metadata": {},
   "outputs": [
    {
     "name": "stdout",
     "output_type": "stream",
     "text": [
      "input1 : 60\n",
      "input2 : 60\n",
      "input3 : 60\n",
      "ไม่สามารถสร้างได้\n"
     ]
    }
   ],
   "source": [
    "a = int(input('input1 : '))\n",
    "b = int(input('input2 : '))\n",
    "c = int(input('input3 : '))\n",
    "\n",
    "if (a+b+c == 180) and (a == 90 or b == 90 or c == 90):\n",
    "    print('สามารถสร้าง 3 เหลี่ยมมุมฉากได้')\n",
    "else: print('ไม่สามารถสร้างได้')"
   ]
  }
 ],
 "metadata": {
  "kernelspec": {
   "display_name": "Python 3",
   "language": "python",
   "name": "python3"
  },
  "language_info": {
   "codemirror_mode": {
    "name": "ipython",
    "version": 3
   },
   "file_extension": ".py",
   "mimetype": "text/x-python",
   "name": "python",
   "nbconvert_exporter": "python",
   "pygments_lexer": "ipython3",
   "version": "3.7.7"
  }
 },
 "nbformat": 4,
 "nbformat_minor": 4
}
