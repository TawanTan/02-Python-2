{
 "cells": [
  {
   "cell_type": "code",
   "execution_count": 7,
   "metadata": {},
   "outputs": [
    {
     "name": "stdout",
     "output_type": "stream",
     "text": [
      "ครั้งที่ 1 : 5000\n",
      "ครั้งที่ 2 : 5000\n",
      "ครั้งที่ 3 : 5000\n",
      "ครั้งที่ 4 : 5000\n",
      "ผู้ใช้มีบัตรเครดิตหรือไม่ พิมพ์0=ไม่มี หรือ พิมพ์1=มี: 1\n",
      "ยอดรวม4มื้อ :  17575.0\n",
      "ยอดของมื้อที่4 :  3325.0\n"
     ]
    }
   ],
   "source": [
    "a = float(input('ครั้งที่ 1 : '))\n",
    "b = float(input('ครั้งที่ 2 : '))\n",
    "c = float(input('ครั้งที่ 3 : '))\n",
    "d = float(input('ครั้งที่ 4 : '))\n",
    "while a < 1000 or a > 5000 or \\\n",
    "      b < 1000 or b > 5000 or \\\n",
    "      c < 1000 or c > 5000 or \\\n",
    "      d < 1000 or d > 5000 :\n",
    "    a = float(input('ครั้งที่ 1 : '))\n",
    "    b = float(input('ครั้งที่ 2 : '))\n",
    "    c = float(input('ครั้งที่ 3 : '))\n",
    "    d = float(input('ครั้งที่ 4 : '))\n",
    "Sum = a+b+c+d\n",
    "threesome = a+b+c\n",
    "x = int(input('ผู้ใช้มีบัตรเครดิตหรือไม่ พิมพ์0=ไม่มี หรือ พิมพ์1=มี: '))\n",
    "\n",
    "if bool(x) == False :\n",
    "    if threesome > 4000 and threesome <= 9000:\n",
    "        print('ยอดรวม4มื้อ : ',Sum*0.75)\n",
    "        print('ยอดของมื้อที่4 : ',d*0.75)\n",
    "    elif threesome > 9000 :\n",
    "        print('ยอดรวม4มื้อ : ',a+b+c+d*0.7)\n",
    "        print('ยอดของมื้อที่4 : ',d*0.7)\n",
    "    else : \n",
    "        print('ยอดรวม4มื้อ : ',Sum)\n",
    "        print('ยอดของมื้อที่4 : ',d)\n",
    "\n",
    "#ตรงนี้ผมเข้าใจว่าถ้ามีบัตรเครดิตจะลด5% ไม่ว่าค่าอาหารจะเป็นเท่าไหร่ก็ตาม\n",
    "else : \n",
    "    if threesome > 4000 and threesome <= 9000:\n",
    "        print('ยอดรวม4มื้อ : ',(Sum*0.75)*0.95)\n",
    "        print('ยอดของมื้อที่4 : ',(d*0.75)*0.95)\n",
    "    elif threesome > 9000 :\n",
    "        print('ยอดรวม4มื้อ : ',(a+b+c+d*0.7)*0.95)\n",
    "        print('ยอดของมื้อที่4 : ',(d*0.7)*0.95)\n",
    "    else : \n",
    "        print('ยอดรวม4มื้อ : ',Sum*0.95)\n",
    "        print('ยอดของมื้อที่4 : ',d*0.95)"
   ]
  }
 ],
 "metadata": {
  "kernelspec": {
   "display_name": "Python 3",
   "language": "python",
   "name": "python3"
  },
  "language_info": {
   "codemirror_mode": {
    "name": "ipython",
    "version": 3
   },
   "file_extension": ".py",
   "mimetype": "text/x-python",
   "name": "python",
   "nbconvert_exporter": "python",
   "pygments_lexer": "ipython3",
   "version": "3.7.7"
  }
 },
 "nbformat": 4,
 "nbformat_minor": 4
}
