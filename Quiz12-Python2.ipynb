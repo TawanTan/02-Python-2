{
 "cells": [
  {
   "cell_type": "code",
   "execution_count": 7,
   "metadata": {},
   "outputs": [
    {
     "name": "stdout",
     "output_type": "stream",
     "text": [
      "put someting here : dddddddddddddd\n",
      "put someting here : dddddd\n",
      "put someting here : ddd\n",
      "put someting here : dd\n",
      "Max :  dddddddddddddd\n",
      "dddddddddddddd\n",
      "dddddd\n",
      "ddd\n",
      "dd\n"
     ]
    }
   ],
   "source": [
    "a = str(input('put someting here : '))\n",
    "b = str(input('put someting here : '))\n",
    "c = str(input('put someting here : '))\n",
    "d = str(input('put someting here : '))\n",
    "lst = [a, b, c, d]\n",
    "print('Max : ',max(lst))\n",
    "sorted(lst)\n",
    "for i in lst:\n",
    "    print(i)"
   ]
  }
 ],
 "metadata": {
  "kernelspec": {
   "display_name": "Python 3",
   "language": "python",
   "name": "python3"
  },
  "language_info": {
   "codemirror_mode": {
    "name": "ipython",
    "version": 3
   },
   "file_extension": ".py",
   "mimetype": "text/x-python",
   "name": "python",
   "nbconvert_exporter": "python",
   "pygments_lexer": "ipython3",
   "version": "3.7.7"
  }
 },
 "nbformat": 4,
 "nbformat_minor": 4
}
